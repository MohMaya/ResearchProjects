{
 "cells": [
  {
   "cell_type": "code",
   "execution_count": 1,
   "metadata": {
    "collapsed": true
   },
   "outputs": [],
   "source": [
    "import cv2\n",
    "import numpy as np\n",
    "np.set_printoptions(threshold=np.nan)\n",
    "from matplotlib import pyplot as plt\n",
    "%matplotlib inline\n",
    "from math import ceil\n",
    "from math import pow\n",
    "from math import sqrt\n",
    "from copy import deepcopy"
   ]
  },
  {
   "cell_type": "code",
   "execution_count": 2,
   "metadata": {
    "collapsed": true
   },
   "outputs": [],
   "source": [
    "image = cv2.imread('gray2.jpg',cv2.IMREAD_GRAYSCALE)\n",
    "image_dash = cv2.imread('gray2.jpg',cv2.IMREAD_GRAYSCALE)"
   ]
  },
  {
   "cell_type": "code",
   "execution_count": 3,
   "metadata": {
    "collapsed": false
   },
   "outputs": [
    {
     "name": "stdout",
     "output_type": "stream",
     "text": [
      "[0, 32, 64, 96, 128]\n",
      "[0, 32, 64, 96, 128]\n"
     ]
    }
   ],
   "source": [
    "x_checkpoint_pixels = []\n",
    "y_checkpoint_pixels = []\n",
    "number_of_blocks = 16\n",
    "#Assuming the image to be square shaped\n",
    "step_size = image_dash.shape[0]//int(sqrt(number_of_blocks))\n",
    "for checkpoint in range(0,image_dash.shape[0],step_size):\n",
    "    x_checkpoint_pixels.append(checkpoint)\n",
    "    y_checkpoint_pixels.append(checkpoint)\n",
    "x_checkpoint_pixels.append(image_dash.shape[0])\n",
    "y_checkpoint_pixels.append(image_dash.shape[0])\n",
    "\n",
    "print(x_checkpoint_pixels)\n",
    "print(y_checkpoint_pixels)"
   ]
  },
  {
   "cell_type": "code",
   "execution_count": 4,
   "metadata": {
    "collapsed": false
   },
   "outputs": [],
   "source": [
    "blockwise_pixels = []\n",
    "for i in range(len(y_checkpoint_pixels)-1):\n",
    "    for j in range(len(x_checkpoint_pixels)-1):\n",
    "        blockwise_pixels.append(image_dash[x_checkpoint_pixels[j]:x_checkpoint_pixels[j+1],y_checkpoint_pixels[i]:y_checkpoint_pixels[i+1]])\n",
    "    "
   ]
  },
  {
   "cell_type": "code",
   "execution_count": 5,
   "metadata": {
    "collapsed": true
   },
   "outputs": [],
   "source": [
    "pixels_of_block = []\n",
    "for i in range(len(blockwise_pixels)):\n",
    "    pixels_of_block.append(blockwise_pixels[i].flatten())"
   ]
  },
  {
   "cell_type": "code",
   "execution_count": 6,
   "metadata": {
    "collapsed": true
   },
   "outputs": [],
   "source": [
    "def compare_print(arr1,arr2):\n",
    "    for m in range(len(arr1)):\n",
    "        print(arr1[m],arr2[m])"
   ]
  },
  {
   "cell_type": "code",
   "execution_count": 7,
   "metadata": {
    "collapsed": true
   },
   "outputs": [],
   "source": [
    "def hide(message,px,block_no):\n",
    "    #Calculate s for given pixel set\n",
    "    card_px = len(px)\n",
    "    s=0\n",
    "    for i in range(card_px-1):\n",
    "        s = s + pow(abs(int(px[i])-int(px[i+1])),block_no)\n",
    "    s=s/(card_px-1)\n",
    "    s=pow(s,1/block_no)\n",
    "    s=ceil(s)\n",
    "    \n",
    "    print('s = ',s)\n",
    "    valid = []\n",
    "    \n",
    "    \n",
    "    #Create a graph for given pixel set\n",
    "    grf = {}\n",
    "    for i in range(card_px):\n",
    "        grf[i]=[]\n",
    "        valid.append(1)\n",
    "    for i in range(card_px):\n",
    "        for j in range(card_px):\n",
    "            if(i==j):\n",
    "                continue\n",
    "            elif(abs(int(px[i])-int(px[j]))<s):\n",
    "                grf[i].append(j)\n",
    "\n",
    "    \n",
    "    #Calculate the nodes(index of pixels) in grf that belong to maximal independent set\n",
    "    grf_dash = deepcopy(grf)\n",
    "    stop = False\n",
    "    i=0\n",
    "    while not stop :\n",
    "        if(len(grf_dash[i])>0):\n",
    "            j = min(grf_dash[i])\n",
    "            del grf_dash[j]\n",
    "            valid[j]=0\n",
    "            for k in grf_dash:\n",
    "                if(j in grf_dash[k]):\n",
    "                    grf_dash[k].remove(j)\n",
    "        else:\n",
    "            q=[]\n",
    "            for k in grf_dash:\n",
    "                if k > i:\n",
    "                    q.append(k)\n",
    "            if(len(q)>0):\n",
    "                i_dash = min(q)\n",
    "                if(i_dash == max(grf_dash.keys())):\n",
    "                    stop = True\n",
    "                else:\n",
    "                    i = i_dash\n",
    "            else:\n",
    "                stop = True\n",
    "    \n",
    "    print(grf_dash.keys())\n",
    "    \n",
    "    \n",
    "    #Get new pixel values by replacing the last bits by message\n",
    "    new_pixels = deepcopy(px)\n",
    "    keys = list(grf_dash.keys())\n",
    "    for i in keys[:4]:\n",
    "        c = len(message)\n",
    "        if(c>0):\n",
    "            pixel_value = bin(px[i])[2:]\n",
    "            replacement = message[0:2]\n",
    "            message = message[2:]\n",
    "            c-=2\n",
    "            print('Pixel Value(Integer)              : ',px[i])\n",
    "            print('Pixel Value(Binary,Before)        : ',pixel_value)\n",
    "            print('Message bits to be hidden         : ',replacement)\n",
    "            print('Remaining Message : ',message)\n",
    "            print(\"               \",pixel_value[-2:],\" replaced by :\",replacement)\n",
    "            temp_pixel = ''\n",
    "            temp_pixel+=pixel_value[:-2]\n",
    "            temp_pixel+=replacement\n",
    "            print('             ',pixel_value,\" becomes : \",temp_pixel)\n",
    "            for j in (grf[i]):\n",
    "                #print('Adjoining Pixel value at : ',j)\n",
    "                #print('Changed from : ',new_pixels[j])\n",
    "                #print('j = ',j)\n",
    "                new_pixels[j]-=(int(pixel_value,2)-int(temp_pixel,2))\n",
    "                #print('Changed To : ',new_pixels[j])\n",
    "            new_pixels[i] = int(temp_pixel,2)\n",
    "            print('           ',px[i],\" successfully changed to \",new_pixels[i])\n",
    "        else:\n",
    "            print(\"\\n##########MESSAGE FINISHED#################\")\n",
    "            return new_pixels,1,message\n",
    "    print('\\n***************Block Finished. Switching to new block***************')\n",
    "    return new_pixels,0,message"
   ]
  },
  {
   "cell_type": "code",
   "execution_count": 8,
   "metadata": {
    "collapsed": true
   },
   "outputs": [],
   "source": [
    "def message_to_binary(message):\n",
    "    final_message = []\n",
    "    for i in message:\n",
    "        final_message.append(bin(ord(i))[2:])\n",
    "    for i in range(len(final_message)):\n",
    "        if(len(final_message[i])<8):\n",
    "            index_to_which_padding_done = len(final_message[i])\n",
    "            temp = ''\n",
    "            for j in range(8-len(final_message[i])):\n",
    "                temp += '0'\n",
    "            temp += final_message[i]\n",
    "            final_message[i] = temp\n",
    "    final_message_string = ''\n",
    "    for i in final_message:\n",
    "        final_message_string += i\n",
    "    print(final_message_string)\n",
    "    return final_message_string"
   ]
  },
  {
   "cell_type": "code",
   "execution_count": 9,
   "metadata": {
    "collapsed": false,
    "scrolled": false
   },
   "outputs": [
    {
     "name": "stdout",
     "output_type": "stream",
     "text": [
      "010010000110010101101100011011000110111100100011\n",
      "s =  9\n",
      "dict_keys([0, 11, 14, 15, 16, 18, 31, 37, 78, 304, 529, 991, 1023])\n",
      "Pixel Value(Integer)              :  137\n",
      "Pixel Value(Binary,Before)        :  10001001\n",
      "Message bits to be hidden         :  01\n",
      "Remaining Message :  0010000110010101101100011011000110111100100011\n",
      "                01  replaced by : 01\n",
      "              10001001  becomes :  10001001\n",
      "            137  successfully changed to  137\n",
      "Pixel Value(Integer)              :  151\n",
      "Pixel Value(Binary,Before)        :  10010111\n",
      "Message bits to be hidden         :  00\n",
      "Remaining Message :  10000110010101101100011011000110111100100011\n",
      "                11  replaced by : 00\n",
      "              10010111  becomes :  10010100\n",
      "            151  successfully changed to  148\n",
      "Pixel Value(Integer)              :  118\n",
      "Pixel Value(Binary,Before)        :  1110110\n",
      "Message bits to be hidden         :  10\n",
      "Remaining Message :  000110010101101100011011000110111100100011\n",
      "                10  replaced by : 10\n",
      "              1110110  becomes :  1110110\n",
      "            118  successfully changed to  118\n",
      "Pixel Value(Integer)              :  86\n",
      "Pixel Value(Binary,Before)        :  1010110\n",
      "Message bits to be hidden         :  00\n",
      "Remaining Message :  0110010101101100011011000110111100100011\n",
      "                10  replaced by : 00\n",
      "              1010110  becomes :  1010100\n",
      "            86  successfully changed to  84\n",
      "\n",
      "***************Block Finished. Switching to new block***************\n",
      "s =  26\n",
      "dict_keys([0, 7, 9, 31, 127])\n",
      "Pixel Value(Integer)              :  61\n",
      "Pixel Value(Binary,Before)        :  111101\n",
      "Message bits to be hidden         :  01\n",
      "Remaining Message :  10010101101100011011000110111100100011\n",
      "                01  replaced by : 01\n",
      "              111101  becomes :  111101\n",
      "            61  successfully changed to  61\n",
      "Pixel Value(Integer)              :  98\n",
      "Pixel Value(Binary,Before)        :  1100010\n",
      "Message bits to be hidden         :  10\n",
      "Remaining Message :  010101101100011011000110111100100011\n",
      "                10  replaced by : 10\n",
      "              1100010  becomes :  1100010\n",
      "            98  successfully changed to  98\n",
      "Pixel Value(Integer)              :  140\n",
      "Pixel Value(Binary,Before)        :  10001100\n",
      "Message bits to be hidden         :  01\n",
      "Remaining Message :  0101101100011011000110111100100011\n",
      "                00  replaced by : 01\n",
      "              10001100  becomes :  10001101\n",
      "            140  successfully changed to  141\n",
      "Pixel Value(Integer)              :  194\n",
      "Pixel Value(Binary,Before)        :  11000010\n",
      "Message bits to be hidden         :  01\n",
      "Remaining Message :  01101100011011000110111100100011\n",
      "                10  replaced by : 01\n",
      "              11000010  becomes :  11000001\n",
      "            194  successfully changed to  193\n",
      "\n",
      "***************Block Finished. Switching to new block***************\n",
      "s =  32\n",
      "dict_keys([0, 8, 11, 121, 125])\n",
      "Pixel Value(Integer)              :  67\n",
      "Pixel Value(Binary,Before)        :  1000011\n",
      "Message bits to be hidden         :  01\n",
      "Remaining Message :  101100011011000110111100100011\n",
      "                11  replaced by : 01\n",
      "              1000011  becomes :  1000001\n",
      "            67  successfully changed to  65\n",
      "Pixel Value(Integer)              :  124\n",
      "Pixel Value(Binary,Before)        :  1111100\n",
      "Message bits to be hidden         :  10\n",
      "Remaining Message :  1100011011000110111100100011\n",
      "                00  replaced by : 10\n",
      "              1111100  becomes :  1111110\n",
      "            124  successfully changed to  126\n",
      "Pixel Value(Integer)              :  156\n",
      "Pixel Value(Binary,Before)        :  10011100\n",
      "Message bits to be hidden         :  11\n",
      "Remaining Message :  00011011000110111100100011\n",
      "                00  replaced by : 11\n",
      "              10011100  becomes :  10011111\n",
      "            156  successfully changed to  159\n",
      "Pixel Value(Integer)              :  29\n",
      "Pixel Value(Binary,Before)        :  11101\n",
      "Message bits to be hidden         :  00\n",
      "Remaining Message :  011011000110111100100011\n",
      "                01  replaced by : 00\n",
      "              11101  becomes :  11100\n",
      "            29  successfully changed to  28\n",
      "\n",
      "***************Block Finished. Switching to new block***************\n",
      "s =  45\n",
      "dict_keys([0, 6, 8, 420])\n",
      "Pixel Value(Integer)              :  19\n",
      "Pixel Value(Binary,Before)        :  10011\n",
      "Message bits to be hidden         :  01\n",
      "Remaining Message :  1011000110111100100011\n",
      "                11  replaced by : 01\n",
      "              10011  becomes :  10001\n",
      "            19  successfully changed to  17\n",
      "Pixel Value(Integer)              :  72\n",
      "Pixel Value(Binary,Before)        :  1001000\n",
      "Message bits to be hidden         :  10\n",
      "Remaining Message :  11000110111100100011\n",
      "                00  replaced by : 10\n",
      "              1001000  becomes :  1001010\n",
      "            72  successfully changed to  74\n",
      "Pixel Value(Integer)              :  121\n",
      "Pixel Value(Binary,Before)        :  1111001\n",
      "Message bits to be hidden         :  11\n",
      "Remaining Message :  000110111100100011\n",
      "                01  replaced by : 11\n",
      "              1111001  becomes :  1111011\n",
      "            121  successfully changed to  123\n",
      "Pixel Value(Integer)              :  166\n",
      "Pixel Value(Binary,Before)        :  10100110\n",
      "Message bits to be hidden         :  00\n",
      "Remaining Message :  0110111100100011\n",
      "                10  replaced by : 00\n",
      "              10100110  becomes :  10100100\n",
      "            166  successfully changed to  164\n",
      "\n",
      "***************Block Finished. Switching to new block***************\n",
      "s =  42\n",
      "dict_keys([0, 405, 735])\n",
      "Pixel Value(Integer)              :  100\n",
      "Pixel Value(Binary,Before)        :  1100100\n",
      "Message bits to be hidden         :  01\n",
      "Remaining Message :  10111100100011\n",
      "                00  replaced by : 01\n",
      "              1100100  becomes :  1100101\n",
      "            100  successfully changed to  101\n",
      "Pixel Value(Integer)              :  142\n",
      "Pixel Value(Binary,Before)        :  10001110\n",
      "Message bits to be hidden         :  10\n",
      "Remaining Message :  111100100011\n",
      "                10  replaced by : 10\n",
      "              10001110  becomes :  10001110\n",
      "            142  successfully changed to  142\n",
      "Pixel Value(Integer)              :  189\n",
      "Pixel Value(Binary,Before)        :  10111101\n",
      "Message bits to be hidden         :  11\n",
      "Remaining Message :  1100100011\n",
      "                01  replaced by : 11\n",
      "              10111101  becomes :  10111111\n",
      "            189  successfully changed to  191\n",
      "\n",
      "***************Block Finished. Switching to new block***************\n",
      "s =  61\n",
      "dict_keys([0, 1, 544, 826])\n",
      "Pixel Value(Integer)              :  129\n",
      "Pixel Value(Binary,Before)        :  10000001\n",
      "Message bits to be hidden         :  11\n",
      "Remaining Message :  00100011\n",
      "                01  replaced by : 11\n",
      "              10000001  becomes :  10000011\n",
      "            129  successfully changed to  131\n",
      "Pixel Value(Integer)              :  65\n",
      "Pixel Value(Binary,Before)        :  1000001\n",
      "Message bits to be hidden         :  00\n",
      "Remaining Message :  100011\n",
      "                01  replaced by : 00\n",
      "              1000001  becomes :  1000000\n",
      "            65  successfully changed to  64\n",
      "Pixel Value(Integer)              :  191\n",
      "Pixel Value(Binary,Before)        :  10111111\n",
      "Message bits to be hidden         :  10\n",
      "Remaining Message :  0011\n",
      "                11  replaced by : 10\n",
      "              10111111  becomes :  10111110\n",
      "            191  successfully changed to  190\n",
      "Pixel Value(Integer)              :  0\n",
      "Pixel Value(Binary,Before)        :  0\n",
      "Message bits to be hidden         :  00\n",
      "Remaining Message :  11\n",
      "                0  replaced by : 00\n",
      "              0  becomes :  00\n",
      "            0  successfully changed to  0\n",
      "\n",
      "***************Block Finished. Switching to new block***************\n",
      "s =  71\n",
      "dict_keys([0, 3, 371])\n",
      "Pixel Value(Integer)              :  132\n",
      "Pixel Value(Binary,Before)        :  10000100\n",
      "Message bits to be hidden         :  11\n",
      "Remaining Message :  \n",
      "                00  replaced by : 11\n",
      "              10000100  becomes :  10000111\n",
      "            132  successfully changed to  135\n",
      "\n",
      "##########MESSAGE FINISHED#################\n"
     ]
    }
   ],
   "source": [
    "message = 'Hello'\n",
    "message = message+'#'\n",
    "message_in_binary = message_to_binary(message)\n",
    "finish = False\n",
    "block_counter = 0\n",
    "list_of_new_blocks = []\n",
    "while(not finish):\n",
    "    new_block, status, message_in_binary = hide(message_in_binary,pixels_of_block[block_counter],block_counter+1)\n",
    "    list_of_new_blocks.append(new_block)\n",
    "    if(status == 1):  #finished the message\n",
    "        finish = True\n",
    "    else:#block finished\n",
    "        block_counter += 1\n",
    "#new_block = hide_a_message(message,0)"
   ]
  },
  {
   "cell_type": "code",
   "execution_count": 10,
   "metadata": {
    "collapsed": false
   },
   "outputs": [],
   "source": [
    "counter = 0\n",
    "for i in range(len(y_checkpoint_pixels)-1):\n",
    "    for j in range(len(x_checkpoint_pixels)-1):\n",
    "        if(counter >= len(list_of_new_blocks)):\n",
    "            break\n",
    "        #print('a')\n",
    "        image_dash[x_checkpoint_pixels[j]:x_checkpoint_pixels[j+1],y_checkpoint_pixels[i]:y_checkpoint_pixels[i+1]] = np.reshape(np.asarray(list_of_new_blocks[counter]),(step_size,step_size))\n",
    "        counter += 1\n",
    "        "
   ]
  },
  {
   "cell_type": "code",
   "execution_count": 11,
   "metadata": {
    "collapsed": false
   },
   "outputs": [
    {
     "data": {
      "image/png": "[encoded data removed]",
      "text/plain": [
       "<matplotlib.figure.Figure at 0x10e705eb8>"
      ]
     },
     "metadata": {},
     "output_type": "display_data"
    }
   ],
   "source": [
    "a=plt.subplot(121)\n",
    "a.imshow(image,cmap='gray')\n",
    "a.set_title(\"Original\")\n",
    "plt.xticks([]), plt.yticks([])\n",
    "b=plt.subplot(122)\n",
    "b.imshow(image_dash, cmap = 'gray')\n",
    "b.set_title(\"Modified\")\n",
    "plt.xticks([]), plt.yticks([])\n",
    "plt.show()"
   ]
  },
  {
   "cell_type": "code",
   "execution_count": 12,
   "metadata": {
    "collapsed": false
   },
   "outputs": [
    {
     "data": {
      "text/plain": [
       "137"
      ]
     },
     "execution_count": 12,
     "metadata": {},
     "output_type": "execute_result"
    }
   ],
   "source": [
    "image[0][0]"
   ]
  },
  {
   "cell_type": "code",
   "execution_count": 13,
   "metadata": {
    "collapsed": false
   },
   "outputs": [
    {
     "name": "stdout",
     "output_type": "stream",
     "text": [
      "[137, 135, 136, 133, 135, 130, 129, 129, 131, 137, 144, 151, 149, 138, 118, 86, 62, 65, 72, 74, 76, 77, 76, 77, 77, 75, 80, 85, 87, 92, 93, 96, 134, 132, 134, 129, 130, 128, 127, 129, 129, 136, 145, 149, 149, 138, 113, 83, 60, 61, 66, 74, 73, 73, 72, 74, 74, 74, 79, 85, 88, 93, 92, 93, 132, 129, 132, 129, 129, 130, 126, 127, 129, 140, 145, 148, 148, 133, 109, 82, 57, 55, 64, 69, 70, 70, 73, 71, 70, 74, 79, 83, 87, 92, 91, 94, 131, 130, 131, 130, 129, 128, 126, 129, 137, 144, 147, 146, 144, 131, 106, 80, 59, 57, 64, 68, 72, 76, 73, 69, 69, 72, 79, 82, 86, 91, 92, 94, 130, 129, 130, 131, 131, 128, 127, 133, 142, 145, 143, 143, 139, 126, 108, 83, 58, 58, 64, 68, 73, 73, 70, 71, 70, 69, 78, 82, 86, 89, 93, 93, 130, 129, 131, 133, 133, 129, 128, 135, 144, 142, 142, 139, 136, 129, 110, 88, 61, 58, 64, 69, 73, 70, 71, 70, 71, 71, 78, 81, 86, 88, 89, 91, 129, 129, 131, 132, 132, 129, 132, 140, 145, 142, 139, 135, 135, 130, 109, 79, 57, 55, 62, 70, 71, 71, 73, 70, 69, 72, 76, 80, 87, 89, 89, 93, 131, 132, 131, 133, 134, 134, 140, 146, 146, 140, 134, 133, 137, 132, 109, 80, 56, 55, 63, 68, 73, 73, 73, 70, 70, 71, 74, 81, 86, 90, 90, 94, 132, 133, 135, 135, 136, 140, 146, 146, 144, 139, 133, 133, 136, 131, 109, 80, 57, 59, 64, 66, 72, 73, 72, 68, 68, 70, 76, 80, 83, 88, 90, 91, 134, 134, 138, 136, 141, 145, 144, 142, 141, 135, 132, 135, 136, 129, 107, 79, 53, 54, 64, 68, 69, 70, 69, 70, 69, 71, 75, 80, 85, 86, 87, 90, 135, 136, 136, 138, 145, 142, 136, 135, 135, 135, 132, 135, 136, 128, 107, 77, 51, 53, 63, 70, 69, 68, 70, 69, 68, 70, 74, 80, 86, 87, 88, 91, 137, 136, 135, 143, 145, 133, 125, 125, 127, 138, 135, 134, 137, 129, 109, 80, 53, 53, 62, 68, 70, 72, 71, 70, 69, 71, 76, 80, 85, 87, 89, 91, 135, 134, 136, 148, 140, 123, 116, 113, 123, 139, 137, 135, 138, 129, 109, 81, 54, 54, 59, 65, 70, 71, 69, 70, 69, 71, 77, 79, 84, 87, 88, 91, 133, 136, 143, 146, 132, 114, 101, 104, 124, 139, 138, 137, 139, 130, 109, 78, 50, 52, 58, 64, 68, 69, 70, 69, 70, 71, 78, 81, 85, 87, 88, 90, 134, 139, 149, 138, 121, 98, 83, 105, 129, 142, 141, 139, 139, 132, 111, 76, 47, 47, 59, 62, 65, 66, 67, 66, 70, 71, 76, 81, 83, 85, 88, 88, 138, 148, 145, 129, 107, 72, 72, 107, 131, 142, 142, 140, 139, 132, 112, 77, 48, 48, 56, 61, 66, 64, 66, 67, 68, 71, 74, 78, 83, 83, 88, 86, 147, 153, 136, 119, 89, 51, 67, 108, 133, 144, 142, 140, 139, 130, 108, 77, 46, 44, 53, 60, 60, 62, 66, 67, 69, 69, 72, 75, 81, 82, 82, 84, 149, 145, 129, 105, 63, 40, 69, 106, 131, 145, 142, 139, 138, 127, 105, 76, 43, 44, 55, 62, 67, 68, 66, 67, 67, 69, 72, 77, 79, 78, 82, 84, 148, 138, 116, 83, 46, 44, 74, 105, 131, 145, 143, 140, 137, 126, 105, 74, 42, 43, 55, 62, 67, 70, 69, 64, 65, 69, 74, 75, 79, 80, 81, 84, 140, 127, 101, 60, 49, 48, 74, 106, 132, 143, 144, 141, 136, 128, 108, 74, 42, 46, 54, 64, 68, 63, 67, 66, 68, 67, 72, 77, 81, 81, 79, 85, 132, 113, 78, 47, 50, 49, 75, 107, 129, 141, 145, 143, 139, 128, 105, 72, 45, 43, 56, 61, 65, 67, 66, 66, 68, 70, 73, 78, 79, 81, 83, 86, 121, 93, 54, 50, 53, 53, 75, 105, 131, 144, 144, 142, 140, 126, 103, 74, 48, 47, 55, 61, 64, 66, 68, 71, 68, 68, 72, 78, 81, 81, 81, 84, 103, 68, 47, 55, 55, 51, 73, 106, 127, 141, 143, 141, 141, 127, 102, 73, 46, 46, 56, 62, 61, 66, 70, 68, 66, 70, 74, 75, 78, 83, 82, 87, 78, 52, 55, 61, 55, 53, 70, 105, 126, 139, 144, 141, 138, 128, 103, 72, 46, 50, 59, 66, 65, 65, 66, 66, 66, 70, 71, 76, 80, 83, 82, 84, 57, 51, 57, 58, 55, 52, 70, 103, 125, 137, 142, 141, 137, 128, 103, 76, 47, 47, 59, 64, 67, 66, 65, 66, 67, 71, 71, 77, 80, 84, 81, 84, 55, 57, 58, 58, 58, 54, 71, 102, 123, 138, 142, 142, 139, 127, 103, 75, 49, 44, 56, 62, 65, 66, 67, 67, 69, 68, 73, 74, 80, 84, 85, 84, 54, 59, 59, 60, 60, 56, 75, 105, 124, 136, 138, 140, 137, 127, 105, 75, 49, 44, 56, 62, 62, 65, 68, 65, 67, 66, 70, 75, 78, 82, 84, 78, 59, 59, 60, 60, 57, 54, 72, 104, 125, 137, 140, 139, 137, 131, 107, 76, 49, 46, 53, 60, 64, 66, 68, 70, 65, 70, 73, 76, 79, 81, 82, 73, 61, 58, 58, 57, 56, 50, 69, 104, 124, 137, 139, 138, 139, 131, 105, 78, 49, 43, 54, 60, 59, 62, 67, 67, 67, 73, 74, 76, 77, 79, 71, 86, 59, 58, 58, 57, 56, 49, 67, 101, 125, 137, 138, 138, 138, 128, 104, 76, 44, 41, 51, 56, 59, 63, 63, 62, 65, 70, 71, 73, 75, 78, 62, 124, 58, 58, 59, 60, 59, 52, 69, 100, 122, 139, 141, 140, 137, 129, 107, 72, 42, 39, 49, 59, 62, 64, 65, 64, 64, 67, 71, 70, 76, 76, 66, 161, 60, 60, 60, 62, 61, 55, 68, 98, 122, 140, 145, 144, 140, 128, 106, 72, 44, 43, 49, 60, 65, 65, 67, 65, 66, 67, 70, 75, 77, 78, 79, 184]\n"
     ]
    }
   ],
   "source": [
    "print(list(pixels_of_block[0]))"
   ]
  },
  {
   "cell_type": "code",
   "execution_count": 14,
   "metadata": {
    "collapsed": false
   },
   "outputs": [
    {
     "data": {
      "text/plain": [
       "137"
      ]
     },
     "execution_count": 14,
     "metadata": {},
     "output_type": "execute_result"
    }
   ],
   "source": [
    "image_dash[0][0]"
   ]
  },
  {
   "cell_type": "code",
   "execution_count": 15,
   "metadata": {
    "collapsed": false
   },
   "outputs": [
    {
     "name": "stdout",
     "output_type": "stream",
     "text": [
      "(128, 128)\n"
     ]
    }
   ],
   "source": [
    "print(image_dash.shape)"
   ]
  },
  {
   "cell_type": "code",
   "execution_count": 16,
   "metadata": {
    "collapsed": false
   },
   "outputs": [
    {
     "data": {
      "text/plain": [
       "True"
      ]
     },
     "execution_count": 16,
     "metadata": {},
     "output_type": "execute_result"
    }
   ],
   "source": [
    "#SUCCESS AT LAST\n",
    "cv2.imwrite('gray2_encoded.jpg',image_dash)"
   ]
  },
  {
   "cell_type": "code",
   "execution_count": null,
   "metadata": {
    "collapsed": true
   },
   "outputs": [],
   "source": []
  }
 ],
 "metadata": {
  "anaconda-cloud": {},
  "kernelspec": {
   "display_name": "Python [conda root]",
   "language": "python",
   "name": "conda-root-py"
  },
  "language_info": {
   "codemirror_mode": {
    "name": "ipython",
    "version": 3
   },
   "file_extension": ".py",
   "mimetype": "text/x-python",
   "name": "python",
   "nbconvert_exporter": "python",
   "pygments_lexer": "ipython3",
   "version": "3.5.2"
  }
 },
 "nbformat": 4,
 "nbformat_minor": 1
}
