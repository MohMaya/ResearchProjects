{
 "cells": [
  {
   "cell_type": "code",
   "execution_count": 1,
   "metadata": {
    "collapsed": true
   },
   "outputs": [],
   "source": [
    "import cv2\n",
    "import numpy as np\n",
    "np.set_printoptions(threshold=np.nan)\n",
    "from matplotlib import pyplot as plt\n",
    "%matplotlib inline\n",
    "from math import ceil\n",
    "from math import pow\n",
    "from math import sqrt\n",
    "from copy import deepcopy"
   ]
  },
  {
   "cell_type": "code",
   "execution_count": 2,
   "metadata": {
    "collapsed": true
   },
   "outputs": [],
   "source": [
    "image = cv2.imread('gray2.jpg',cv2.IMREAD_GRAYSCALE)\n",
    "image_dash = cv2.imread('gray2.jpg',cv2.IMREAD_GRAYSCALE)"
   ]
  },
  {
   "cell_type": "code",
   "execution_count": 3,
   "metadata": {
    "collapsed": false
   },
   "outputs": [
    {
     "name": "stdout",
     "output_type": "stream",
     "text": [
      "[0, 32, 64, 96, 128]\n",
      "[0, 32, 64, 96, 128]\n"
     ]
    }
   ],
   "source": [
    "x_checkpoint_pixels = []\n",
    "y_checkpoint_pixels = []\n",
    "number_of_blocks = 16\n",
    "#Assuming the image to be square shaped\n",
    "step_size = image_dash.shape[0]//int(sqrt(number_of_blocks))\n",
    "for checkpoint in range(0,image_dash.shape[0],step_size):\n",
    "    x_checkpoint_pixels.append(checkpoint)\n",
    "    y_checkpoint_pixels.append(checkpoint)\n",
    "x_checkpoint_pixels.append(image_dash.shape[0])\n",
    "y_checkpoint_pixels.append(image_dash.shape[0])\n",
    "\n",
    "print(x_checkpoint_pixels)\n",
    "print(y_checkpoint_pixels)"
   ]
  },
  {
   "cell_type": "code",
   "execution_count": 4,
   "metadata": {
    "collapsed": false
   },
   "outputs": [],
   "source": [
    "blockwise_pixels = []\n",
    "for i in range(len(y_checkpoint_pixels)-1):\n",
    "    for j in range(len(x_checkpoint_pixels)-1):\n",
    "        blockwise_pixels.append(image_dash[x_checkpoint_pixels[j]:x_checkpoint_pixels[j+1],y_checkpoint_pixels[i]:y_checkpoint_pixels[i+1]])\n",
    "    "
   ]
  },
  {
   "cell_type": "code",
   "execution_count": 5,
   "metadata": {
    "collapsed": true
   },
   "outputs": [],
   "source": [
    "pixels_of_block = []\n",
    "for i in range(len(blockwise_pixels)):\n",
    "    pixels_of_block.append(blockwise_pixels[i].flatten())"
   ]
  },
  {
   "cell_type": "code",
   "execution_count": 6,
   "metadata": {
    "collapsed": true
   },
   "outputs": [],
   "source": [
    "def s_calculator(pixels_in_a_block,block_number):\n",
    "    cardinality_pixels_in_block = len(pixels_in_a_block)\n",
    "    s=0\n",
    "    for i in range(cardinality_pixels_in_block - 1):\n",
    "       s = s + abs(pow(pixels_in_a_block[i],block_number)-pow(pixels_in_a_block[i+1],block_number))\n",
    "    #print(s)\n",
    "    s=s/(cardinality_pixels_in_block - 1)\n",
    "    s=pow(s,1/block_number)\n",
    "    #print(s)\n",
    "    s=ceil(s)\n",
    "    return s"
   ]
  },
  {
   "cell_type": "code",
   "execution_count": 7,
   "metadata": {
    "collapsed": false
   },
   "outputs": [
    {
     "name": "stdout",
     "output_type": "stream",
     "text": [
      "[9, 53, 76, 98, 101, 121, 127, 98, 154, 160, 156, 169, 175, 169, 172, 177]\n"
     ]
    }
   ],
   "source": [
    "s_values = []\n",
    "for j in range(number_of_blocks):\n",
    "    s_values.append(s_calculator(pixels_of_block[j],j+1))\n",
    "print(s_values)"
   ]
  },
  {
   "cell_type": "code",
   "execution_count": 8,
   "metadata": {
    "collapsed": true
   },
   "outputs": [],
   "source": [
    "def graph_maker(pixels_in_block,value_of_s):\n",
    "    graph = {}\n",
    "    cardinality_block = len(pixels_in_block)\n",
    "    \n",
    "    for i in range(cardinality_block):\n",
    "        graph[i] = []\n",
    "    for i in range(cardinality_block):\n",
    "        for j in range(cardinality_block):\n",
    "            if(i==j):\n",
    "                continue\n",
    "            elif(abs(int(pixels_in_block[i])-int(pixels_in_block[j]))<value_of_s):\n",
    "                graph[i].append(j)\n",
    "    return graph"
   ]
  },
  {
   "cell_type": "code",
   "execution_count": 9,
   "metadata": {
    "collapsed": true
   },
   "outputs": [],
   "source": [
    "graph_of_block = []\n",
    "for k in range(number_of_blocks):\n",
    "    graph_of_block.append(graph_maker(pixels_of_block[k],s_values[k]))"
   ]
  },
  {
   "cell_type": "code",
   "execution_count": 10,
   "metadata": {
    "collapsed": true
   },
   "outputs": [],
   "source": [
    "def compare_print(arr1,arr2):\n",
    "    for m in range(len(arr1)):\n",
    "        print(arr1[m],arr2[m])"
   ]
  },
  {
   "cell_type": "code",
   "execution_count": 11,
   "metadata": {
    "collapsed": true
   },
   "outputs": [],
   "source": [
    "def hide_a_message(message,block_number):\n",
    "    graph_dash = deepcopy(graph_of_block[block_number])\n",
    "    print('copy successful')\n",
    "    stop = False\n",
    "    i=0\n",
    "    c=0\n",
    "    while not stop :\n",
    "        #print('iteration ',c,'with i = ',i,end=\"\")\n",
    "        #c+=1\n",
    "        if(len(graph_dash[i])>0):\n",
    "            j = min(graph_dash[i])\n",
    "            del graph_dash[j]\n",
    "            for k in graph_dash:\n",
    "                if(j in graph_dash[k]):\n",
    "                    graph_dash[k].remove(j)\n",
    "            #print(' and removed : ',j)\n",
    "        else:\n",
    "            q=[]\n",
    "            for k in graph_dash:\n",
    "                if k > i:\n",
    "                    q.append(k)\n",
    "            if(len(q)>0):\n",
    "                i_dash = min(q)\n",
    "                if(i_dash == max(graph_dash.keys())):\n",
    "                    stop = True\n",
    "                else:\n",
    "                    i = i_dash\n",
    "            else:\n",
    "                stop = True\n",
    "    c = len(message)\n",
    "    print(2*len(graph_dash.keys()),' bits can be hidden')\n",
    "    print('Nodes in color class : ',graph_dash.keys())\n",
    "    new_pixels = deepcopy(pixels_of_block[block_number])\n",
    "    #compare_print(new_pixels,pixels_of_block[block_number])\n",
    "    for i in graph_dash.keys():\n",
    "        if(c>0):\n",
    "            pixel_value = bin(pixels_of_block[block_number][i])[2:]\n",
    "            replacement = message[c-2:c]\n",
    "            c-=2\n",
    "            print(\"IN \",pixel_value,\" last two are : \",pixel_value[-2:],\" replaced by :\",replacement)\n",
    "            temp_pixel = ''\n",
    "            temp_pixel+=pixel_value[:-2]\n",
    "            temp_pixel+=replacement\n",
    "            print(pixel_value,\" becomes : \",temp_pixel)\n",
    "            for j in graph_of_block[block_number][i]:\n",
    "                new_pixels[j]-=(int(pixel_value,2)-int(temp_pixel,2))\n",
    "            new_pixels[i] -= (int(pixel_value,2)-int(temp_pixel,2)) \n",
    "            print(int(pixel_value,2),\" becomes \",int(temp_pixel,2))\n",
    "            #compare_print(new_pixels,pixels_of_block[block_number])\n",
    "        else:\n",
    "            print(\"\\nmessage Finished\")\n",
    "            #compare_print(new_pixels,pixels_of_block[block_number])\n",
    "            return new_pixels\n",
    "    #compare_print(new_pixels,pixels_of_block[block_number])\n",
    "    return new_pixels"
   ]
  },
  {
   "cell_type": "code",
   "execution_count": 12,
   "metadata": {
    "collapsed": false
   },
   "outputs": [
    {
     "name": "stdout",
     "output_type": "stream",
     "text": [
      "copy successful\n",
      "26  bits can be hidden\n",
      "Nodes in color class :  dict_keys([0, 11, 14, 15, 16, 18, 31, 37, 78, 304, 529, 991, 1023])\n",
      "IN  10001001  last two are :  01  replaced by : 00\n",
      "10001001  becomes :  10001000\n",
      "137  becomes  136\n",
      "IN  10010111  last two are :  11  replaced by : 00\n",
      "10010111  becomes :  10010100\n",
      "151  becomes  148\n",
      "\n",
      "message Finished\n"
     ]
    }
   ],
   "source": [
    "message = '0000'\n",
    "new_block = hide_a_message(message,0)"
   ]
  },
  {
   "cell_type": "code",
   "execution_count": 13,
   "metadata": {
    "collapsed": false
   },
   "outputs": [
    {
     "name": "stdout",
     "output_type": "stream",
     "text": [
      "131\n",
      "132\n"
     ]
    }
   ],
   "source": [
    "new_block_of_image = np.reshape(np.asarray(new_block),(step_size,step_size))\n",
    "old_block_of_image = image[0:32,0:32]\n",
    "print(new_block_of_image[1][1])\n",
    "print(old_block_of_image[1][1])"
   ]
  },
  {
   "cell_type": "code",
   "execution_count": 15,
   "metadata": {
    "collapsed": true
   },
   "outputs": [],
   "source": [
    "start = 0\n",
    "end = step_size\n",
    "image_dash[start:end,start:end] = new_block_of_image"
   ]
  },
  {
   "cell_type": "code",
   "execution_count": 16,
   "metadata": {
    "collapsed": false
   },
   "outputs": [
    {
     "data": {
      "image/png": "[encoded data removed]",
      "text/plain": [
       "<matplotlib.figure.Figure at 0x10e6f2780>"
      ]
     },
     "metadata": {},
     "output_type": "display_data"
    }
   ],
   "source": [
    "a=plt.subplot(121)\n",
    "a.imshow(image,cmap='gray')\n",
    "a.set_title(\"Original\")\n",
    "plt.xticks([]), plt.yticks([])\n",
    "b=plt.subplot(122)\n",
    "b.imshow(image_dash, cmap = 'gray')\n",
    "b.set_title(\"Modified\")\n",
    "plt.xticks([]), plt.yticks([])\n",
    "plt.show()"
   ]
  },
  {
   "cell_type": "code",
   "execution_count": 17,
   "metadata": {
    "collapsed": false
   },
   "outputs": [
    {
     "data": {
      "text/plain": [
       "137"
      ]
     },
     "execution_count": 17,
     "metadata": {},
     "output_type": "execute_result"
    }
   ],
   "source": [
    "image[0][0]"
   ]
  },
  {
   "cell_type": "code",
   "execution_count": 18,
   "metadata": {
    "collapsed": false
   },
   "outputs": [
    {
     "data": {
      "text/plain": [
       "136"
      ]
     },
     "execution_count": 18,
     "metadata": {},
     "output_type": "execute_result"
    }
   ],
   "source": [
    "image_dash[0][0]"
   ]
  },
  {
   "cell_type": "code",
   "execution_count": null,
   "metadata": {
    "collapsed": true
   },
   "outputs": [],
   "source": [
    "#SUCCESS AT LAST"
   ]
  }
 ],
 "metadata": {
  "kernelspec": {
   "display_name": "Python [conda root]",
   "language": "python",
   "name": "conda-root-py"
  },
  "language_info": {
   "codemirror_mode": {
    "name": "ipython",
    "version": 3
   },
   "file_extension": ".py",
   "mimetype": "text/x-python",
   "name": "python",
   "nbconvert_exporter": "python",
   "pygments_lexer": "ipython3",
   "version": "3.5.2"
  }
 },
 "nbformat": 4,
 "nbformat_minor": 1
}
