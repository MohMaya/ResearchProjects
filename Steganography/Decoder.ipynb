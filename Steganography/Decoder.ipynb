{
 "cells": [
  {
   "cell_type": "code",
   "execution_count": 1,
   "metadata": {
    "collapsed": true
   },
   "outputs": [],
   "source": [
    "import cv2\n",
    "import numpy as np\n",
    "np.set_printoptions(threshold=np.nan)\n",
    "from matplotlib import pyplot as plt\n",
    "%matplotlib inline\n",
    "from math import ceil\n",
    "from math import pow\n",
    "from math import sqrt\n",
    "from copy import deepcopy"
   ]
  },
  {
   "cell_type": "code",
   "execution_count": 2,
   "metadata": {
    "collapsed": true
   },
   "outputs": [],
   "source": [
    "image = cv2.imread('gray2_encoded.jpg',cv2.IMREAD_GRAYSCALE)\n",
    "image_dash = cv2.imread('gray2_encoded.jpg',cv2.IMREAD_GRAYSCALE)"
   ]
  },
  {
   "cell_type": "code",
   "execution_count": 3,
   "metadata": {
    "collapsed": false
   },
   "outputs": [
    {
     "name": "stdout",
     "output_type": "stream",
     "text": [
      "[0, 32, 64, 96, 128]\n"
     ]
    }
   ],
   "source": [
    "x_checkpoint_pixels = []\n",
    "y_checkpoint_pixels = []\n",
    "number_of_blocks = 16\n",
    "#Assuming the image to be square shaped\n",
    "step_size = image_dash.shape[0]//int(sqrt(number_of_blocks))\n",
    "for checkpoint in range(0,image_dash.shape[0],step_size):\n",
    "    x_checkpoint_pixels.append(checkpoint)\n",
    "    y_checkpoint_pixels.append(checkpoint)\n",
    "x_checkpoint_pixels.append(image_dash.shape[0])\n",
    "y_checkpoint_pixels.append(image_dash.shape[0])\n",
    "\n",
    "print(x_checkpoint_pixels)"
   ]
  },
  {
   "cell_type": "code",
   "execution_count": 4,
   "metadata": {
    "collapsed": true
   },
   "outputs": [],
   "source": [
    "blockwise_pixels = []\n",
    "for i in range(len(y_checkpoint_pixels)-1):\n",
    "    for j in range(len(x_checkpoint_pixels)-1):\n",
    "        blockwise_pixels.append(image_dash[x_checkpoint_pixels[j]:x_checkpoint_pixels[j+1],y_checkpoint_pixels[i]:y_checkpoint_pixels[i+1]])\n"
   ]
  },
  {
   "cell_type": "code",
   "execution_count": 5,
   "metadata": {
    "collapsed": true
   },
   "outputs": [],
   "source": [
    "pixels_of_block = []\n",
    "for i in range(len(blockwise_pixels)):\n",
    "    pixels_of_block.append(blockwise_pixels[i].flatten())"
   ]
  },
  {
   "cell_type": "code",
   "execution_count": 6,
   "metadata": {
    "collapsed": true
   },
   "outputs": [],
   "source": [
    "def s_calculator(pixels_in_a_block,block_number):\n",
    "    cardinality_pixels_in_block = len(pixels_in_a_block)\n",
    "    s=0\n",
    "    for i in range(cardinality_pixels_in_block - 1):\n",
    "       s = s + abs(pow(pixels_in_a_block[i],block_number)-pow(pixels_in_a_block[i+1],block_number))\n",
    "    #print(s)\n",
    "    s=s/(cardinality_pixels_in_block - 1)\n",
    "    s=pow(s,1/block_number)\n",
    "    #print(s)\n",
    "    s=ceil(s)\n",
    "    return s"
   ]
  },
  {
   "cell_type": "code",
   "execution_count": 7,
   "metadata": {
    "collapsed": false
   },
   "outputs": [
    {
     "name": "stdout",
     "output_type": "stream",
     "text": [
      "[9, 53, 77, 100, 101, 127, 129, 98, 154, 161, 156, 169, 175, 170, 173, 178]\n"
     ]
    }
   ],
   "source": [
    "s_values = []\n",
    "for j in range(number_of_blocks):\n",
    "    s_values.append(s_calculator(pixels_of_block[j],j+1))\n",
    "print(s_values)"
   ]
  },
  {
   "cell_type": "code",
   "execution_count": 8,
   "metadata": {
    "collapsed": true
   },
   "outputs": [],
   "source": [
    "def graph_maker(pixels_in_block,value_of_s):\n",
    "    graph = {}\n",
    "    cardinality_block = len(pixels_in_block)\n",
    "    \n",
    "    for i in range(cardinality_block):\n",
    "        graph[i] = []\n",
    "    for i in range(cardinality_block):\n",
    "        for j in range(cardinality_block):\n",
    "            if(i==j):\n",
    "                continue\n",
    "            elif(abs(int(pixels_in_block[i])-int(pixels_in_block[j]))<value_of_s):\n",
    "                graph[i].append(j)\n",
    "    return graph"
   ]
  },
  {
   "cell_type": "code",
   "execution_count": 9,
   "metadata": {
    "collapsed": true
   },
   "outputs": [],
   "source": [
    "graph_of_block = []\n",
    "for k in range(number_of_blocks):\n",
    "    graph_of_block.append(graph_maker(pixels_of_block[k],s_values[k]))"
   ]
  },
  {
   "cell_type": "code",
   "execution_count": 10,
   "metadata": {
    "collapsed": true
   },
   "outputs": [],
   "source": [
    "def binary_to_message(binary_message):#will be an eight bit value\n",
    "    ascii_value = int(binary_message,2)\n",
    "    return chr(ascii_value)"
   ]
  },
  {
   "cell_type": "code",
   "execution_count": 22,
   "metadata": {
    "collapsed": true
   },
   "outputs": [],
   "source": [
    "def reveal_a_message():\n",
    "    status = 0\n",
    "    final_message = ''\n",
    "    block_number = 0\n",
    "    while((status != 1)and(block_number<number_of_blocks)):\n",
    "        graph_dash = deepcopy(graph_of_block[block_number])\n",
    "        print('copy successful ',block_number+1)\n",
    "        stop = False\n",
    "        i=0\n",
    "        while not stop :\n",
    "            #print('iteration ',c,'with i = ',i,end=\"\")\n",
    "            #c+=1\n",
    "            if(len(graph_dash[i])>0):\n",
    "                j = min(graph_dash[i])\n",
    "                del graph_dash[j]\n",
    "                for k in graph_dash:\n",
    "                    if(j in graph_dash[k]):\n",
    "                        graph_dash[k].remove(j)\n",
    "                #print(' and removed : ',j)\n",
    "            else:\n",
    "                q=[]\n",
    "                for k in graph_dash:\n",
    "                    if k > i:\n",
    "                        q.append(k)\n",
    "                if(len(q)>0):\n",
    "                    i_dash = min(q)\n",
    "                    if(i_dash == max(graph_dash.keys())):\n",
    "                        stop = True\n",
    "                    else:\n",
    "                        i = i_dash\n",
    "                else:\n",
    "                    stop = True\n",
    "        print(graph_dash.keys())           \n",
    "        counter_check = 0 #when this reaches 4, binary_to_message is called and it is reset to 0\n",
    "        eight_bit_value = ''\n",
    "        for i in graph_dash.keys():\n",
    "            messagebit_value = bin(pixels_of_block[block_number][i])[-2:]\n",
    "            eight_bit_value += messagebit_value\n",
    "            counter_check += 1\n",
    "            if(counter_check == 4):\n",
    "                counter_check = 0\n",
    "                messagecharacter = binary_to_message(eight_bit_value)\n",
    "                print(messagecharacter)\n",
    "                eight_bit_value = ''\n",
    "                if(messagecharacter != '#'):\n",
    "                    final_message += messagecharacter\n",
    "                else:\n",
    "                    return final_message\n",
    "        block_number += 1\n",
    "    return final_message"
   ]
  },
  {
   "cell_type": "code",
   "execution_count": 23,
   "metadata": {
    "collapsed": false
   },
   "outputs": [
    {
     "name": "stdout",
     "output_type": "stream",
     "text": [
      "copy successful  1\n",
      "dict_keys([0, 6, 12, 14, 15, 16, 18, 31, 110, 464, 991, 1023])\n",
      "H\n",
      "L\n",
      "ô\n",
      "copy successful  2\n",
      "dict_keys([0, 8, 31])\n",
      "copy successful  3\n",
      "dict_keys([0, 9])\n",
      "copy successful  4\n",
      "dict_keys([0, 8])\n",
      "copy successful  5\n",
      "dict_keys([0])\n",
      "copy successful  6\n",
      "dict_keys([0, 794])\n",
      "copy successful  7\n",
      "dict_keys([0, 178])\n",
      "copy successful  8\n",
      "dict_keys([0])\n",
      "copy successful  9\n",
      "dict_keys([0])\n",
      "copy successful  10\n",
      "dict_keys([0])\n",
      "copy successful  11\n",
      "dict_keys([0, 46])\n",
      "copy successful  12\n",
      "dict_keys([0])\n",
      "copy successful  13\n",
      "dict_keys([0])\n",
      "copy successful  14\n",
      "dict_keys([0, 9])\n",
      "copy successful  15\n",
      "dict_keys([0, 412])\n",
      "copy successful  16\n",
      "dict_keys([0])\n",
      "HLô\n"
     ]
    }
   ],
   "source": [
    "print(reveal_a_message())"
   ]
  },
  {
   "cell_type": "code",
   "execution_count": null,
   "metadata": {
    "collapsed": true
   },
   "outputs": [],
   "source": []
  }
 ],
 "metadata": {
  "kernelspec": {
   "display_name": "Python [conda root]",
   "language": "python",
   "name": "conda-root-py"
  },
  "language_info": {
   "codemirror_mode": {
    "name": "ipython",
    "version": 3
   },
   "file_extension": ".py",
   "mimetype": "text/x-python",
   "name": "python",
   "nbconvert_exporter": "python",
   "pygments_lexer": "ipython3",
   "version": "3.5.2"
  }
 },
 "nbformat": 4,
 "nbformat_minor": 1
}
